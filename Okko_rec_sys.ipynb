{
 "cells": [
  {
   "cell_type": "code",
   "execution_count": 14,
   "outputs": [
    {
     "name": "stdout",
     "output_type": "stream",
     "text": [
      "The autoreload extension is already loaded. To reload it, use:\n",
      "  %reload_ext autoreload\n"
     ]
    }
   ],
   "source": [
    "import pandas as pd\n",
    "from libs.recommend_user_item import train_svd_model, convert_ratings_to_trainset\n",
    "%load_ext autoreload\n",
    "%autoreload 2\n",
    "\n",
    "params = {\n",
    "    \"n_epochs\": 50,\n",
    "    \"lr_all\": 0.013795417732518363,\n",
    "    \"reg_all\": 0.8966771292853577,\n",
    "    \"n_factors\": 17}\n",
    "n_item = 10\n",
    "n_user = 10\n",
    "top_n = 5"
   ],
   "metadata": {
    "collapsed": false,
    "ExecuteTime": {
     "end_time": "2023-08-02T15:54:53.045621700Z",
     "start_time": "2023-08-02T15:54:52.996535200Z"
    }
   }
  },
  {
   "cell_type": "code",
   "execution_count": 2,
   "outputs": [
    {
     "data": {
      "text/plain": "        user_uid  element_uid  rating\n0         571252         1364      10\n1          63140         3037      10\n2         443817         4363       8\n3         359870         1364      10\n4         359870         3578       9\n...          ...          ...     ...\n438785    170707         1539       8\n438786     32659         6127       8\n438787    353752         3336       8\n438788    492350         7984       7\n438789    374752         8919       2\n\n[438790 rows x 3 columns]",
      "text/html": "<div>\n<style scoped>\n    .dataframe tbody tr th:only-of-type {\n        vertical-align: middle;\n    }\n\n    .dataframe tbody tr th {\n        vertical-align: top;\n    }\n\n    .dataframe thead th {\n        text-align: right;\n    }\n</style>\n<table border=\"1\" class=\"dataframe\">\n  <thead>\n    <tr style=\"text-align: right;\">\n      <th></th>\n      <th>user_uid</th>\n      <th>element_uid</th>\n      <th>rating</th>\n    </tr>\n  </thead>\n  <tbody>\n    <tr>\n      <th>0</th>\n      <td>571252</td>\n      <td>1364</td>\n      <td>10</td>\n    </tr>\n    <tr>\n      <th>1</th>\n      <td>63140</td>\n      <td>3037</td>\n      <td>10</td>\n    </tr>\n    <tr>\n      <th>2</th>\n      <td>443817</td>\n      <td>4363</td>\n      <td>8</td>\n    </tr>\n    <tr>\n      <th>3</th>\n      <td>359870</td>\n      <td>1364</td>\n      <td>10</td>\n    </tr>\n    <tr>\n      <th>4</th>\n      <td>359870</td>\n      <td>3578</td>\n      <td>9</td>\n    </tr>\n    <tr>\n      <th>...</th>\n      <td>...</td>\n      <td>...</td>\n      <td>...</td>\n    </tr>\n    <tr>\n      <th>438785</th>\n      <td>170707</td>\n      <td>1539</td>\n      <td>8</td>\n    </tr>\n    <tr>\n      <th>438786</th>\n      <td>32659</td>\n      <td>6127</td>\n      <td>8</td>\n    </tr>\n    <tr>\n      <th>438787</th>\n      <td>353752</td>\n      <td>3336</td>\n      <td>8</td>\n    </tr>\n    <tr>\n      <th>438788</th>\n      <td>492350</td>\n      <td>7984</td>\n      <td>7</td>\n    </tr>\n    <tr>\n      <th>438789</th>\n      <td>374752</td>\n      <td>8919</td>\n      <td>2</td>\n    </tr>\n  </tbody>\n</table>\n<p>438790 rows × 3 columns</p>\n</div>"
     },
     "execution_count": 2,
     "metadata": {},
     "output_type": "execute_result"
    }
   ],
   "source": [
    "df = pd.read_csv('Data/download/ratings.csv').drop(columns='ts')\n",
    "df"
   ],
   "metadata": {
    "collapsed": false,
    "ExecuteTime": {
     "end_time": "2023-08-02T07:09:54.996178400Z",
     "start_time": "2023-08-02T07:09:54.769303700Z"
    }
   }
  },
  {
   "cell_type": "code",
   "execution_count": 8,
   "outputs": [
    {
     "data": {
      "text/plain": "3396"
     },
     "execution_count": 8,
     "metadata": {},
     "output_type": "execute_result"
    }
   ],
   "source": [
    "(df['element_uid'].value_counts() > n_item).sum()"
   ],
   "metadata": {
    "collapsed": false,
    "ExecuteTime": {
     "end_time": "2023-08-02T07:13:45.526553100Z",
     "start_time": "2023-08-02T07:13:45.463663600Z"
    }
   }
  },
  {
   "cell_type": "code",
   "execution_count": 7,
   "outputs": [
    {
     "data": {
      "text/plain": "8630"
     },
     "execution_count": 7,
     "metadata": {},
     "output_type": "execute_result"
    }
   ],
   "source": [
    "(df['user_uid'].value_counts() > n_user).sum()"
   ],
   "metadata": {
    "collapsed": false,
    "ExecuteTime": {
     "end_time": "2023-08-02T07:13:43.355469700Z",
     "start_time": "2023-08-02T07:13:43.266479Z"
    }
   }
  },
  {
   "cell_type": "code",
   "execution_count": 9,
   "outputs": [
    {
     "data": {
      "text/plain": "        user_uid  element_uid  rating\n1          63140         3037      10\n2         443817         4363       8\n6         230987         8273      10\n9          36122         7587       6\n12        281031         8739       7\n...          ...          ...     ...\n438779    287021         3336      10\n438782    288896         2362       8\n438783    104636         7132       8\n438785    170707         1539       8\n438787    353752         3336       8\n\n[180171 rows x 3 columns]",
      "text/html": "<div>\n<style scoped>\n    .dataframe tbody tr th:only-of-type {\n        vertical-align: middle;\n    }\n\n    .dataframe tbody tr th {\n        vertical-align: top;\n    }\n\n    .dataframe thead th {\n        text-align: right;\n    }\n</style>\n<table border=\"1\" class=\"dataframe\">\n  <thead>\n    <tr style=\"text-align: right;\">\n      <th></th>\n      <th>user_uid</th>\n      <th>element_uid</th>\n      <th>rating</th>\n    </tr>\n  </thead>\n  <tbody>\n    <tr>\n      <th>1</th>\n      <td>63140</td>\n      <td>3037</td>\n      <td>10</td>\n    </tr>\n    <tr>\n      <th>2</th>\n      <td>443817</td>\n      <td>4363</td>\n      <td>8</td>\n    </tr>\n    <tr>\n      <th>6</th>\n      <td>230987</td>\n      <td>8273</td>\n      <td>10</td>\n    </tr>\n    <tr>\n      <th>9</th>\n      <td>36122</td>\n      <td>7587</td>\n      <td>6</td>\n    </tr>\n    <tr>\n      <th>12</th>\n      <td>281031</td>\n      <td>8739</td>\n      <td>7</td>\n    </tr>\n    <tr>\n      <th>...</th>\n      <td>...</td>\n      <td>...</td>\n      <td>...</td>\n    </tr>\n    <tr>\n      <th>438779</th>\n      <td>287021</td>\n      <td>3336</td>\n      <td>10</td>\n    </tr>\n    <tr>\n      <th>438782</th>\n      <td>288896</td>\n      <td>2362</td>\n      <td>8</td>\n    </tr>\n    <tr>\n      <th>438783</th>\n      <td>104636</td>\n      <td>7132</td>\n      <td>8</td>\n    </tr>\n    <tr>\n      <th>438785</th>\n      <td>170707</td>\n      <td>1539</td>\n      <td>8</td>\n    </tr>\n    <tr>\n      <th>438787</th>\n      <td>353752</td>\n      <td>3336</td>\n      <td>8</td>\n    </tr>\n  </tbody>\n</table>\n<p>180171 rows × 3 columns</p>\n</div>"
     },
     "execution_count": 9,
     "metadata": {},
     "output_type": "execute_result"
    }
   ],
   "source": [
    "user_counts = df['user_uid'].value_counts()\n",
    "movie_counts = df['element_uid'].value_counts()\n",
    "\n",
    "# Фильтруем пользователей, которые оценили меньше 2 фильмов\n",
    "users_to_keep = user_counts[user_counts > n_user].index\n",
    "df_filtered_users = df[df['user_uid'].isin(users_to_keep)]\n",
    "\n",
    "# Фильтруем фильмы, которые оценили меньше 10 раз\n",
    "movies_to_keep = movie_counts[movie_counts > n_item].index\n",
    "df_filtered = df_filtered_users[df_filtered_users['element_uid'].isin(movies_to_keep)]\n",
    "df_filtered"
   ],
   "metadata": {
    "collapsed": false,
    "ExecuteTime": {
     "end_time": "2023-08-02T07:14:05.823739300Z",
     "start_time": "2023-08-02T07:14:05.714264600Z"
    }
   }
  },
  {
   "cell_type": "code",
   "execution_count": 41,
   "outputs": [
    {
     "data": {
      "text/plain": "        user_uid  element_uid  rating\n0         571252         1364      10\n1          63140         3037      10\n2         443817         4363       8\n3         359870         1364      10\n4         359870         3578       9\n...          ...          ...     ...\n435940     20211         2075       8\n436755     20211         9702       8\n437670     61690         5266       8\n437812    433795         8919       9\n438199     20211         9544       8\n\n[1565 rows x 3 columns]",
      "text/html": "<div>\n<style scoped>\n    .dataframe tbody tr th:only-of-type {\n        vertical-align: middle;\n    }\n\n    .dataframe tbody tr th {\n        vertical-align: top;\n    }\n\n    .dataframe thead th {\n        text-align: right;\n    }\n</style>\n<table border=\"1\" class=\"dataframe\">\n  <thead>\n    <tr style=\"text-align: right;\">\n      <th></th>\n      <th>user_uid</th>\n      <th>element_uid</th>\n      <th>rating</th>\n    </tr>\n  </thead>\n  <tbody>\n    <tr>\n      <th>0</th>\n      <td>571252</td>\n      <td>1364</td>\n      <td>10</td>\n    </tr>\n    <tr>\n      <th>1</th>\n      <td>63140</td>\n      <td>3037</td>\n      <td>10</td>\n    </tr>\n    <tr>\n      <th>2</th>\n      <td>443817</td>\n      <td>4363</td>\n      <td>8</td>\n    </tr>\n    <tr>\n      <th>3</th>\n      <td>359870</td>\n      <td>1364</td>\n      <td>10</td>\n    </tr>\n    <tr>\n      <th>4</th>\n      <td>359870</td>\n      <td>3578</td>\n      <td>9</td>\n    </tr>\n    <tr>\n      <th>...</th>\n      <td>...</td>\n      <td>...</td>\n      <td>...</td>\n    </tr>\n    <tr>\n      <th>435940</th>\n      <td>20211</td>\n      <td>2075</td>\n      <td>8</td>\n    </tr>\n    <tr>\n      <th>436755</th>\n      <td>20211</td>\n      <td>9702</td>\n      <td>8</td>\n    </tr>\n    <tr>\n      <th>437670</th>\n      <td>61690</td>\n      <td>5266</td>\n      <td>8</td>\n    </tr>\n    <tr>\n      <th>437812</th>\n      <td>433795</td>\n      <td>8919</td>\n      <td>9</td>\n    </tr>\n    <tr>\n      <th>438199</th>\n      <td>20211</td>\n      <td>9544</td>\n      <td>8</td>\n    </tr>\n  </tbody>\n</table>\n<p>1565 rows × 3 columns</p>\n</div>"
     },
     "execution_count": 41,
     "metadata": {},
     "output_type": "execute_result"
    }
   ],
   "source": [
    "uniq_100 = df_filtered['user_uid'].unique()[:100]\n",
    "df_filtered = df_filtered[df_filtered['user_uid'].isin(uniq_100)]\n",
    "df_filtered"
   ],
   "metadata": {
    "collapsed": false,
    "ExecuteTime": {
     "end_time": "2023-08-01T21:13:29.611281100Z",
     "start_time": "2023-08-01T21:13:29.546064300Z"
    }
   }
  },
  {
   "cell_type": "code",
   "execution_count": 26,
   "outputs": [
    {
     "data": {
      "text/plain": "[747, 2714, 5616, 3336, 2245]"
     },
     "execution_count": 26,
     "metadata": {},
     "output_type": "execute_result"
    }
   ],
   "source": [
    "df.groupby('element_uid', as_index=False)['rating'].sum().sort_values(by='rating', ascending=False).reset_index(drop=True)['element_uid'][:top_n].to_list()"
   ],
   "metadata": {
    "collapsed": false,
    "ExecuteTime": {
     "end_time": "2023-08-01T20:45:01.690221100Z",
     "start_time": "2023-08-01T20:45:01.643331700Z"
    }
   }
  },
  {
   "cell_type": "markdown",
   "source": [
    "Проверяем, есть ли среди пользователей те, кто оценил один фильм дважды. Таких пользователей нет, можно работать с данными без группировки и учёта времени."
   ],
   "metadata": {
    "collapsed": false
   }
  },
  {
   "cell_type": "code",
   "execution_count": 10,
   "outputs": [
    {
     "data": {
      "text/plain": "<surprise.dataset.DatasetAutoFolds at 0x20e1fb8c8e0>"
     },
     "execution_count": 10,
     "metadata": {},
     "output_type": "execute_result"
    }
   ],
   "source": [
    "data = convert_ratings_to_trainset(df_filtered)\n",
    "data"
   ],
   "metadata": {
    "collapsed": false,
    "ExecuteTime": {
     "end_time": "2023-08-02T07:14:16.925625800Z",
     "start_time": "2023-08-02T07:14:16.706336500Z"
    }
   }
  },
  {
   "cell_type": "code",
   "execution_count": 11,
   "outputs": [
    {
     "name": "stderr",
     "output_type": "stream",
     "text": [
      "100%|██████████| 29127309/29127309 [00:11<00:00, 2564303.88it/s]\n",
      "100%|██████████| 8630/8630 [00:09<00:00, 895.32it/s] \n"
     ]
    },
    {
     "data": {
      "text/plain": "       item_id    rating  user_id\n0         6461  9.537187    63140\n1         3223  9.477430    63140\n2         4660  9.471472    63140\n3         8338  9.436611    63140\n4         4154  9.380242    63140\n...        ...       ...      ...\n43145     6461  9.956584   176015\n43146     3223  9.896807   176015\n43147     4660  9.890852   176015\n43148     8338  9.855988   176015\n43149     4154  9.799623   176015\n\n[43150 rows x 3 columns]",
      "text/html": "<div>\n<style scoped>\n    .dataframe tbody tr th:only-of-type {\n        vertical-align: middle;\n    }\n\n    .dataframe tbody tr th {\n        vertical-align: top;\n    }\n\n    .dataframe thead th {\n        text-align: right;\n    }\n</style>\n<table border=\"1\" class=\"dataframe\">\n  <thead>\n    <tr style=\"text-align: right;\">\n      <th></th>\n      <th>item_id</th>\n      <th>rating</th>\n      <th>user_id</th>\n    </tr>\n  </thead>\n  <tbody>\n    <tr>\n      <th>0</th>\n      <td>6461</td>\n      <td>9.537187</td>\n      <td>63140</td>\n    </tr>\n    <tr>\n      <th>1</th>\n      <td>3223</td>\n      <td>9.477430</td>\n      <td>63140</td>\n    </tr>\n    <tr>\n      <th>2</th>\n      <td>4660</td>\n      <td>9.471472</td>\n      <td>63140</td>\n    </tr>\n    <tr>\n      <th>3</th>\n      <td>8338</td>\n      <td>9.436611</td>\n      <td>63140</td>\n    </tr>\n    <tr>\n      <th>4</th>\n      <td>4154</td>\n      <td>9.380242</td>\n      <td>63140</td>\n    </tr>\n    <tr>\n      <th>...</th>\n      <td>...</td>\n      <td>...</td>\n      <td>...</td>\n    </tr>\n    <tr>\n      <th>43145</th>\n      <td>6461</td>\n      <td>9.956584</td>\n      <td>176015</td>\n    </tr>\n    <tr>\n      <th>43146</th>\n      <td>3223</td>\n      <td>9.896807</td>\n      <td>176015</td>\n    </tr>\n    <tr>\n      <th>43147</th>\n      <td>4660</td>\n      <td>9.890852</td>\n      <td>176015</td>\n    </tr>\n    <tr>\n      <th>43148</th>\n      <td>8338</td>\n      <td>9.855988</td>\n      <td>176015</td>\n    </tr>\n    <tr>\n      <th>43149</th>\n      <td>4154</td>\n      <td>9.799623</td>\n      <td>176015</td>\n    </tr>\n  </tbody>\n</table>\n<p>43150 rows × 3 columns</p>\n</div>"
     },
     "execution_count": 11,
     "metadata": {},
     "output_type": "execute_result"
    }
   ],
   "source": [
    "rec = train_svd_model(data_prep_df=data,\n",
    "                      best_params=params,\n",
    "                      n_pred=5,\n",
    "                )\n",
    "rec"
   ],
   "metadata": {
    "collapsed": false,
    "ExecuteTime": {
     "end_time": "2023-08-02T07:17:52.625970300Z",
     "start_time": "2023-08-02T07:14:18.487216Z"
    }
   }
  },
  {
   "cell_type": "code",
   "execution_count": 12,
   "outputs": [],
   "source": [
    "rec.to_pickle('okko_rec.pickle')"
   ],
   "metadata": {
    "collapsed": false,
    "ExecuteTime": {
     "end_time": "2023-08-02T07:27:00.353192800Z",
     "start_time": "2023-08-02T07:27:00.290178400Z"
    }
   }
  },
  {
   "cell_type": "code",
   "execution_count": 25,
   "outputs": [
    {
     "data": {
      "text/plain": "       item_id    rating  user_id\n0         6461  9.537187    63140\n1         3223  9.477430    63140\n2         4660  9.471472    63140\n3         8338  9.436611    63140\n4         4154  9.380242    63140\n...        ...       ...      ...\n43145     6461  9.956584   176015\n43146     3223  9.896807   176015\n43147     4660  9.890852   176015\n43148     8338  9.855988   176015\n43149     4154  9.799623   176015\n\n[43150 rows x 3 columns]",
      "text/html": "<div>\n<style scoped>\n    .dataframe tbody tr th:only-of-type {\n        vertical-align: middle;\n    }\n\n    .dataframe tbody tr th {\n        vertical-align: top;\n    }\n\n    .dataframe thead th {\n        text-align: right;\n    }\n</style>\n<table border=\"1\" class=\"dataframe\">\n  <thead>\n    <tr style=\"text-align: right;\">\n      <th></th>\n      <th>item_id</th>\n      <th>rating</th>\n      <th>user_id</th>\n    </tr>\n  </thead>\n  <tbody>\n    <tr>\n      <th>0</th>\n      <td>6461</td>\n      <td>9.537187</td>\n      <td>63140</td>\n    </tr>\n    <tr>\n      <th>1</th>\n      <td>3223</td>\n      <td>9.477430</td>\n      <td>63140</td>\n    </tr>\n    <tr>\n      <th>2</th>\n      <td>4660</td>\n      <td>9.471472</td>\n      <td>63140</td>\n    </tr>\n    <tr>\n      <th>3</th>\n      <td>8338</td>\n      <td>9.436611</td>\n      <td>63140</td>\n    </tr>\n    <tr>\n      <th>4</th>\n      <td>4154</td>\n      <td>9.380242</td>\n      <td>63140</td>\n    </tr>\n    <tr>\n      <th>...</th>\n      <td>...</td>\n      <td>...</td>\n      <td>...</td>\n    </tr>\n    <tr>\n      <th>43145</th>\n      <td>6461</td>\n      <td>9.956584</td>\n      <td>176015</td>\n    </tr>\n    <tr>\n      <th>43146</th>\n      <td>3223</td>\n      <td>9.896807</td>\n      <td>176015</td>\n    </tr>\n    <tr>\n      <th>43147</th>\n      <td>4660</td>\n      <td>9.890852</td>\n      <td>176015</td>\n    </tr>\n    <tr>\n      <th>43148</th>\n      <td>8338</td>\n      <td>9.855988</td>\n      <td>176015</td>\n    </tr>\n    <tr>\n      <th>43149</th>\n      <td>4154</td>\n      <td>9.799623</td>\n      <td>176015</td>\n    </tr>\n  </tbody>\n</table>\n<p>43150 rows × 3 columns</p>\n</div>"
     },
     "execution_count": 25,
     "metadata": {},
     "output_type": "execute_result"
    }
   ],
   "source": [
    "import pickle\n",
    "\n",
    "with open('cache/okko_rec.pickle', 'rb') as f:\n",
    "    cache = pickle.load(f)\n",
    "cache"
   ],
   "metadata": {
    "collapsed": false,
    "ExecuteTime": {
     "end_time": "2023-08-02T21:12:12.406836Z",
     "start_time": "2023-08-02T21:12:12.349209100Z"
    }
   }
  },
  {
   "cell_type": "code",
   "execution_count": 22,
   "outputs": [
    {
     "name": "stdout",
     "output_type": "stream",
     "text": [
      "cache_file D:\\Документы\\Рабочее\\ML\\Другое\\Okko_rec_sys\\cache\\okko_rec.pickle\n",
      "user2item_df        item_id    rating  user_id\n",
      "0         6461  9.537187    63140\n",
      "1         3223  9.477430    63140\n",
      "2         4660  9.471472    63140\n",
      "3         8338  9.436611    63140\n",
      "4         4154  9.380242    63140\n",
      "...        ...       ...      ...\n",
      "43145     6461  9.956584   176015\n",
      "43146     3223  9.896807   176015\n",
      "43147     4660  9.890852   176015\n",
      "43148     8338  9.855988   176015\n",
      "43149     4154  9.799623   176015\n",
      "\n",
      "[43150 rows x 3 columns]\n"
     ]
    },
    {
     "data": {
      "text/plain": "array([6461, 3223, 4660, 8338, 4154], dtype=int64)"
     },
     "execution_count": 22,
     "metadata": {},
     "output_type": "execute_result"
    }
   ],
   "source": [
    "from libs.http_actions.model_cache import get_top_similar_by_user\n",
    "\n",
    "get_top_similar_by_user(63140)"
   ],
   "metadata": {
    "collapsed": false,
    "ExecuteTime": {
     "end_time": "2023-08-02T16:00:46.252765600Z",
     "start_time": "2023-08-02T16:00:46.201695700Z"
    }
   }
  }
 ],
 "metadata": {
  "kernelspec": {
   "display_name": "Python 3",
   "language": "python",
   "name": "python3"
  },
  "language_info": {
   "codemirror_mode": {
    "name": "ipython",
    "version": 2
   },
   "file_extension": ".py",
   "mimetype": "text/x-python",
   "name": "python",
   "nbconvert_exporter": "python",
   "pygments_lexer": "ipython2",
   "version": "2.7.6"
  }
 },
 "nbformat": 4,
 "nbformat_minor": 0
}
