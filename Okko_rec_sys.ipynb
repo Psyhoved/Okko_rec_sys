{
 "cells": [
  {
   "cell_type": "code",
   "execution_count": 11,
   "metadata": {
    "collapsed": true,
    "ExecuteTime": {
     "end_time": "2023-07-29T10:03:58.491162600Z",
     "start_time": "2023-07-29T10:03:58.370187600Z"
    }
   },
   "outputs": [
    {
     "data": {
      "text/plain": "        user_uid  element_uid  rating            ts\n0         571252         1364      10  4.430517e+07\n1          63140         3037      10  4.430514e+07\n2         443817         4363       8  4.430514e+07\n3         359870         1364      10  4.430506e+07\n4         359870         3578       9  4.430506e+07\n...          ...          ...     ...           ...\n438785    170707         1539       8  4.173086e+07\n438786     32659         6127       8  4.173085e+07\n438787    353752         3336       8  4.173079e+07\n438788    492350         7984       7  4.173078e+07\n438789    374752         8919       2  4.173065e+07\n\n[438790 rows x 4 columns]",
      "text/html": "<div>\n<style scoped>\n    .dataframe tbody tr th:only-of-type {\n        vertical-align: middle;\n    }\n\n    .dataframe tbody tr th {\n        vertical-align: top;\n    }\n\n    .dataframe thead th {\n        text-align: right;\n    }\n</style>\n<table border=\"1\" class=\"dataframe\">\n  <thead>\n    <tr style=\"text-align: right;\">\n      <th></th>\n      <th>user_uid</th>\n      <th>element_uid</th>\n      <th>rating</th>\n      <th>ts</th>\n    </tr>\n  </thead>\n  <tbody>\n    <tr>\n      <th>0</th>\n      <td>571252</td>\n      <td>1364</td>\n      <td>10</td>\n      <td>4.430517e+07</td>\n    </tr>\n    <tr>\n      <th>1</th>\n      <td>63140</td>\n      <td>3037</td>\n      <td>10</td>\n      <td>4.430514e+07</td>\n    </tr>\n    <tr>\n      <th>2</th>\n      <td>443817</td>\n      <td>4363</td>\n      <td>8</td>\n      <td>4.430514e+07</td>\n    </tr>\n    <tr>\n      <th>3</th>\n      <td>359870</td>\n      <td>1364</td>\n      <td>10</td>\n      <td>4.430506e+07</td>\n    </tr>\n    <tr>\n      <th>4</th>\n      <td>359870</td>\n      <td>3578</td>\n      <td>9</td>\n      <td>4.430506e+07</td>\n    </tr>\n    <tr>\n      <th>...</th>\n      <td>...</td>\n      <td>...</td>\n      <td>...</td>\n      <td>...</td>\n    </tr>\n    <tr>\n      <th>438785</th>\n      <td>170707</td>\n      <td>1539</td>\n      <td>8</td>\n      <td>4.173086e+07</td>\n    </tr>\n    <tr>\n      <th>438786</th>\n      <td>32659</td>\n      <td>6127</td>\n      <td>8</td>\n      <td>4.173085e+07</td>\n    </tr>\n    <tr>\n      <th>438787</th>\n      <td>353752</td>\n      <td>3336</td>\n      <td>8</td>\n      <td>4.173079e+07</td>\n    </tr>\n    <tr>\n      <th>438788</th>\n      <td>492350</td>\n      <td>7984</td>\n      <td>7</td>\n      <td>4.173078e+07</td>\n    </tr>\n    <tr>\n      <th>438789</th>\n      <td>374752</td>\n      <td>8919</td>\n      <td>2</td>\n      <td>4.173065e+07</td>\n    </tr>\n  </tbody>\n</table>\n<p>438790 rows × 4 columns</p>\n</div>"
     },
     "execution_count": 11,
     "metadata": {},
     "output_type": "execute_result"
    }
   ],
   "source": [
    "import pandas as pd\n",
    "\n",
    "df = pd.read_csv('Data/download/ratings.csv')\n",
    "df"
   ]
  },
  {
   "cell_type": "markdown",
   "source": [
    "Проверяем, есть ли среди пользователей те, кто оценил один фильм дважды. Таких пользователей нет, можно работать с данными без группировки и учёта времени."
   ],
   "metadata": {
    "collapsed": false
   }
  },
  {
   "cell_type": "code",
   "execution_count": 26,
   "outputs": [
    {
     "name": "stdout",
     "output_type": "stream",
     "text": [
      "Пользователи с двумя разными оценками одному фильму:\n",
      "[]\n"
     ]
    }
   ],
   "source": [
    "# Проверка наличия хотя бы двух разных оценок в колонке \"rating\" в каждой группе\n",
    "grouped_df = df.groupby([\"user_uid\", \"element_uid\"]).filter(lambda x: x[\"rating\"].nunique() >= 2)\n",
    "\n",
    "# Вывод пользователей, у которых есть хотя бы две разные оценки одному фильму\n",
    "print(\"Пользователи с двумя разными оценками одному фильму:\")\n",
    "print(grouped_df[\"user_uid\"].unique())\n",
    "del grouped_df\n"
   ],
   "metadata": {
    "collapsed": false,
    "ExecuteTime": {
     "end_time": "2023-07-29T10:32:25.172616500Z",
     "start_time": "2023-07-29T10:31:57.279065800Z"
    }
   }
  }
 ],
 "metadata": {
  "kernelspec": {
   "display_name": "Python 3",
   "language": "python",
   "name": "python3"
  },
  "language_info": {
   "codemirror_mode": {
    "name": "ipython",
    "version": 2
   },
   "file_extension": ".py",
   "mimetype": "text/x-python",
   "name": "python",
   "nbconvert_exporter": "python",
   "pygments_lexer": "ipython2",
   "version": "2.7.6"
  }
 },
 "nbformat": 4,
 "nbformat_minor": 0
}
